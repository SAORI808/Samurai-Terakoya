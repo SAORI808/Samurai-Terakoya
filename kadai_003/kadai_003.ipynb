{
  "nbformat": 4,
  "nbformat_minor": 0,
  "metadata": {
    "colab": {
      "provenance": []
    },
    "kernelspec": {
      "name": "python3",
      "display_name": "Python 3"
    },
    "language_info": {
      "name": "python"
    }
  },
  "cells": [
    {
      "cell_type": "code",
      "source": [
        "import pandas as pd\n",
        "from openpyxl import load_workbook\n",
        "from openpyxl.styles import PatternFill\n",
        "\n",
        "# 2022年と2023年の売上データを読み込む\n",
        "data_2022 = pd.read_excel(\"2022_年間売上表.xlsx\", sheet_name='Sheet1')\n",
        "data_2023 = pd.read_excel(\"2023_年間売上表.xlsx\", sheet_name='Sheet1')\n",
        "\n",
        "# データを連結\n",
        "merged_data = pd.concat([data_2022, data_2023], ignore_index=True)\n",
        "\n",
        "# 「商品」「売上年」ごとにグループ化し、金額を合計\n",
        "grouped_data = merged_data.groupby(['商品', '売上年'])['金額（千円）'].sum().reset_index()\n",
        "\n",
        "# 結果を表示\n",
        "print(\"商品ごとの売上年別合計金額:\")\n",
        "print(grouped_data)\n",
        "\n",
        "# Excelファイルを作成\n",
        "output_file = '売上集計表.xlsx'\n",
        "grouped_data.to_excel(output_file, index=False)\n",
        "\n",
        "# 保存したファイルを読み込む\n",
        "wb = load_workbook(output_file)\n",
        "ws = wb.active\n",
        "\n",
        "# ヘッダー部分（1行目）に薄いグレー（#F2F2F2）を適用\n",
        "header_fill = PatternFill(start_color=\"F2F2F2\", end_color=\"F2F2F2\", fill_type=\"solid\")\n",
        "for cell in ws[1]:  # 1行目のセルをループ\n",
        "    cell.fill = header_fill\n",
        "\n",
        "# ファイルを保存\n",
        "wb.save(output_file)\n"
      ],
      "metadata": {
        "colab": {
          "base_uri": "https://localhost:8080/"
        },
        "id": "hHY4fd3dcCiR",
        "outputId": "c8e97f4f-b70b-4cd4-e9c2-722655e0e26c"
      },
      "execution_count": 15,
      "outputs": [
        {
          "output_type": "stream",
          "name": "stdout",
          "text": [
            "商品ごとの売上年別合計金額:\n",
            "          商品   売上年  金額（千円）\n",
            "0   アロマキャンドル  2022    1710\n",
            "1   アロマキャンドル  2023     900\n",
            "2      コーヒー豆  2023     860\n",
            "3       セッケン  2022    1300\n",
            "4       セッケン  2023    1300\n",
            "5       ハチミツ  2022    1860\n",
            "6       ハチミツ  2023    1000\n",
            "7      フライパン  2023     670\n",
            "8     ワイングラス  2022     850\n",
            "9     ワイングラス  2023     850\n",
            "10        包丁  2022     940\n",
            "11        包丁  2023     940\n",
            "12        水筒  2022    1150\n",
            "13        水筒  2023    1400\n",
            "14        紅茶  2022    2000\n",
            "15        紅茶  2023    1870\n"
          ]
        }
      ]
    },
    {
      "cell_type": "code",
      "source": [],
      "metadata": {
        "id": "2bj6sZP3iEZc"
      },
      "execution_count": null,
      "outputs": []
    }
  ]
}
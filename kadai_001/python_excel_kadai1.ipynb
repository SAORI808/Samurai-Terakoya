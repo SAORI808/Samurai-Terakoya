{
  "nbformat": 4,
  "nbformat_minor": 0,
  "metadata": {
    "colab": {
      "provenance": []
    },
    "kernelspec": {
      "name": "python3",
      "display_name": "Python 3"
    },
    "language_info": {
      "name": "python"
    }
  },
  "cells": [
    {
      "cell_type": "code",
      "source": [
        "from openpyxl import Workbook\n",
        "from datetime import datetime\n",
        "\n",
        "# 新しいワークブックを作成\n",
        "wb = Workbook()\n",
        "ws = wb.active\n",
        "\n",
        "# B2に'請求書'を入力\n",
        "ws[\"B2\"] = \"請求書\"\n",
        "\n",
        "# B4以降に住所、電話、担当者情報を入力\n",
        "ws[\"B4\"] = \"〒101-0022 東京都千代田区神田練塀町300\"\n",
        "ws[\"B5\"] = \"TEL:03-1234-5678 FAX:03-1234-5678\"\n",
        "ws[\"B6\"] = \"担当者名:鈴木一郎 様\"\n",
        "\n",
        "# F4に'No.'を入力\n",
        "ws[\"F4\"] = \"No.\"\n",
        "\n",
        "# G4に'0001'を入力\n",
        "ws[\"G4\"] = \"0001\"\n",
        "\n",
        "# F5に'日付'を入力\n",
        "ws[\"F5\"] = \"日付\"\n",
        "\n",
        "# G5に今日の日付を'yyyy/mm/dd'形式で入力\n",
        "ws[\"G5\"] = datetime.today().strftime('%Y/%m/%d')\n",
        "\n",
        "# 10行目のB列からヘッダーを入力\n",
        "ws[\"B10\"] = \"商品名\"\n",
        "ws[\"C10\"] = \"数量\"\n",
        "ws[\"D10\"] = \"単価\"\n",
        "ws[\"E10\"] = \"金額\"\n",
        "\n",
        "# 11行目の商品情報\n",
        "ws[\"B11\"] = \"商品A\"\n",
        "ws[\"C11\"] = 2\n",
        "ws[\"D11\"] = 10000\n",
        "ws[\"E11\"] = ws[\"C11\"].value * ws[\"D11\"].value  # 数量 * 単価\n",
        "\n",
        "# 12行目の商品情報\n",
        "ws[\"B12\"] = \"商品B\"\n",
        "ws[\"C12\"] = 1\n",
        "ws[\"D12\"] = 15000\n",
        "ws[\"E12\"] = ws[\"C12\"].value * ws[\"D12\"].value  # 数量 * 単価\n",
        "\n",
        "# 13行目のE列にE11とE12の合計を入力\n",
        "ws[\"E13\"] = ws[\"E11\"].value + ws[\"E12\"].value\n",
        "\n",
        "# 15行目B列に'合計'を入力し、E13の数字を入力\n",
        "ws[\"B15\"] = \"合計\"\n",
        "ws[\"E15\"] = ws[\"E13\"].value\n",
        "\n",
        "# 16行目B列に'消費税'を入力し、E列にE15の10%をかけた数字を入力\n",
        "ws[\"B16\"] = \"消費税\"\n",
        "ws[\"E16\"] = ws[\"E15\"].value * 0.1\n",
        "\n",
        "# 17行目B列に'税込み合計'を入力し、E列にE15とE16の合計を入力\n",
        "ws[\"B17\"] = \"税込み合計\"\n",
        "ws[\"E17\"] = ws[\"E15\"].value + ws[\"E16\"].value\n",
        "\n",
        "# Excelファイルを保存\n",
        "wb.save(\"請求書_20241104.xlsx\")\n"
      ],
      "metadata": {
        "id": "LaJ7Ss8TwB97"
      },
      "execution_count": 2,
      "outputs": []
    }
  ]
}
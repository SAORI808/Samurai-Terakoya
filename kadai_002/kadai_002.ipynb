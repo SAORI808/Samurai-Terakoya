{
  "nbformat": 4,
  "nbformat_minor": 0,
  "metadata": {
    "colab": {
      "provenance": []
    },
    "kernelspec": {
      "name": "python3",
      "display_name": "Python 3"
    },
    "language_info": {
      "name": "python"
    }
  },
  "cells": [
    {
      "cell_type": "code",
      "source": [
        "import pandas as pd\n",
        "\n",
        "# データの準備\n",
        "data = {\n",
        "    \"日付\": [\"2023-05-17\", \"2023-05-18\", \"2023-05-19\", \"2023-05-20\", \"2023-05-21\"],\n",
        "    \"社員名\": [\"山田\", \"佐藤\", \"鈴木\", \"田中\", \"高橋\"],\n",
        "    \"売上\": [100, 200, 150, 300, 250],\n",
        "    \"部門\": [\"メーカー\", \"代理店\", \"メーカー\", \"商社\", \"代理店\"]\n",
        "}\n",
        "df = pd.DataFrame(data)\n",
        "\n",
        "# 売上平均値を計算し、全行に追加\n",
        "average_sales = df[\"売上\"].mean()\n",
        "df[\"平均売上\"] = average_sales\n",
        "\n",
        "# 業績ランクを計算する関数\n",
        "def calculate_rank(sales):\n",
        "    if sales > 200:\n",
        "        return \"A\"\n",
        "    elif sales == 200:\n",
        "        return \"B\"\n",
        "    else:\n",
        "        return \"C\"\n",
        "\n",
        "# 売上に基づいて業績ランクを設定\n",
        "df[\"業績ランク\"] = df[\"売上\"].apply(calculate_rank)\n",
        "\n",
        "# エクセルへ出力\n",
        "df.to_excel(\"業績.xlsx\", index=False)\n",
        "print(\"Excelファイル「業績.xlsx」が作成されました。\")\n"
      ],
      "metadata": {
        "colab": {
          "base_uri": "https://localhost:8080/"
        },
        "id": "UBeDza-KsWjB",
        "outputId": "88067c38-6cc8-435b-b4f4-d5aea209b4c5"
      },
      "execution_count": 12,
      "outputs": [
        {
          "output_type": "stream",
          "name": "stdout",
          "text": [
            "Excelファイル「業績.xlsx」が作成されました。\n"
          ]
        }
      ]
    }
  ]
}